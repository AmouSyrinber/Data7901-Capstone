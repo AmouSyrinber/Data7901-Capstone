{
 "cells": [
  {
   "cell_type": "code",
   "execution_count": 1,
   "id": "a268c9f9",
   "metadata": {},
   "outputs": [],
   "source": [
    "import dash\n",
    "from dash import dcc, html\n",
    "from dash.dependencies import Input, Output\n",
    "import pandas as pd\n",
    "import plotly.express as px"
   ]
  },
  {
   "cell_type": "code",
   "execution_count": 6,
   "id": "25e649ce",
   "metadata": {},
   "outputs": [
    {
     "data": {
      "text/html": [
       "\n",
       "        <iframe\n",
       "            width=\"100%\"\n",
       "            height=\"650\"\n",
       "            src=\"http://127.0.0.1:8050/\"\n",
       "            frameborder=\"0\"\n",
       "            allowfullscreen\n",
       "            \n",
       "        ></iframe>\n",
       "        "
      ],
      "text/plain": [
       "<IPython.lib.display.IFrame at 0x225eaa22100>"
      ]
     },
     "metadata": {},
     "output_type": "display_data"
    }
   ],
   "source": [
    "df = pd.read_csv('cleaned_data.csv')\n",
    "\n",
    "# 获取发射点列表\n",
    "launch_sites = df['LaunchSite'].unique()\n",
    "\n",
    "# 创建Dash应用\n",
    "app = dash.Dash(__name__)\n",
    "\n",
    "# 设计仪表板布局\n",
    "app.layout = html.Div([\n",
    "    html.H1(\"Rocket Launch Dashboard\"),\n",
    "    \n",
    "    # 下拉菜单\n",
    "    dcc.Dropdown(\n",
    "        id='site-dropdown',\n",
    "        options=[{'label': site, 'value': site} for site in launch_sites],\n",
    "        value=launch_sites[0],\n",
    "        multi=False,\n",
    "        style={'width': '50%'}\n",
    "    ),\n",
    "    \n",
    "    # 成功率文本显示\n",
    "    html.Div(id='success-rate-output'),\n",
    "\n",
    "    # 饼图\n",
    "    dcc.Graph(id='success-pie-chart')\n",
    "])\n",
    "\n",
    "# 回调函数，根据下拉菜单选择的发射地点更新成功率文本和饼图\n",
    "@app.callback(\n",
    "    [Output('success-rate-output', 'children'),\n",
    "     Output('success-pie-chart', 'figure')],\n",
    "    [Input('site-dropdown', 'value')]\n",
    ")\n",
    "def update_success_rate(selected_site):\n",
    "    # 根据选择的发射地点过滤数据\n",
    "    filtered_data = df[df['LaunchSite'] == selected_site]\n",
    "\n",
    "    # 计算成功率\n",
    "    success_rate = filtered_data['Outcome'].mean() * 100\n",
    "\n",
    "    # 成功率文本显示\n",
    "    success_rate_text = f\"Success Rate at {selected_site}: {success_rate:.2f}%\"\n",
    "\n",
    "    # 创建饼图\n",
    "    fig = px.pie(names=['Success', 'Failure'], values=[success_rate, 100 - success_rate], title=success_rate_text)\n",
    "\n",
    "    return success_rate_text, fig\n",
    "\n",
    "# 运行Dash应用\n",
    "if __name__ == '__main__':\n",
    "    app.run_server(debug=True)"
   ]
  },
  {
   "cell_type": "code",
   "execution_count": 11,
   "id": "85104a29",
   "metadata": {},
   "outputs": [
    {
     "data": {
      "text/html": [
       "\n",
       "        <iframe\n",
       "            width=\"100%\"\n",
       "            height=\"650\"\n",
       "            src=\"http://127.0.0.1:8050/\"\n",
       "            frameborder=\"0\"\n",
       "            allowfullscreen\n",
       "            \n",
       "        ></iframe>\n",
       "        "
      ],
      "text/plain": [
       "<IPython.lib.display.IFrame at 0x225ef47abe0>"
      ]
     },
     "metadata": {},
     "output_type": "display_data"
    }
   ],
   "source": [
    "min_payload = int(df['PayloadMass'].min())\n",
    "max_payload = int(df['PayloadMass'].max())\n",
    "\n",
    "# 创建Dash应用\n",
    "app = dash.Dash(__name__)\n",
    "\n",
    "# 设计仪表板布局\n",
    "app.layout = html.Div([\n",
    "    html.H1(\"Payload Analysis Dashboard\"),\n",
    "    \n",
    "    # Payload范围选择器\n",
    "    dcc.RangeSlider(\n",
    "        id='payload-range-slider',\n",
    "        min=min_payload,\n",
    "        max=max_payload,\n",
    "        marks={i: str(i) for i in range(min_payload, max_payload+1, 50)},\n",
    "        step=10,\n",
    "        value=[df['PayloadMass'].min(), df['PayloadMass'].max()]\n",
    "    ),\n",
    "    \n",
    "    # Payload负载与着陆结果的散点图\n",
    "    dcc.Graph(id='payload-landing-scatter'),\n",
    "    \n",
    "    # Payload负载与所有发射地点的散点图\n",
    "    dcc.Graph(id='payload-site-scatter')\n",
    "])\n",
    "\n",
    "# 回调函数，根据Payload范围更新散点图\n",
    "@app.callback(\n",
    "    [Output('payload-landing-scatter', 'figure'),\n",
    "     Output('payload-site-scatter', 'figure')],\n",
    "    [Input('payload-range-slider', 'value')]\n",
    ")\n",
    "def update_scatter_plots(payload_range):\n",
    "    # 根据Payload范围过滤数据\n",
    "    filtered_data = df[(df['PayloadMass'] >= payload_range[0]) & (df['PayloadMass'] <= payload_range[1])]\n",
    "\n",
    "    # Payload负载与着陆结果的散点图\n",
    "    scatter_fig1 = px.scatter(\n",
    "        filtered_data,\n",
    "        x='PayloadMass',\n",
    "        y='Outcome',\n",
    "        color='Outcome',\n",
    "        labels={'Payload Mass': 'Payload Mass', 'Outcome': 'Landing Outcome'},\n",
    "        title='Payload Mass vs. Landing Outcome'\n",
    "    )\n",
    "\n",
    "    # Payload负载与所有发射地点的散点图\n",
    "    scatter_fig2 = px.scatter(\n",
    "        filtered_data,\n",
    "        x='PayloadMass',\n",
    "        y='LaunchSite',\n",
    "        color='Outcome',\n",
    "        labels={'PayloadMass': 'PayloadMass', 'LaunchSite': 'LaunchSite'},\n",
    "        title='Payload Mass vs. Launch Site'\n",
    "    )\n",
    "\n",
    "    return scatter_fig1, scatter_fig2\n",
    "\n",
    "# 运行Dash应用\n",
    "if __name__ == '__main__':\n",
    "    app.run_server(debug=True)"
   ]
  }
 ],
 "metadata": {
  "kernelspec": {
   "display_name": "Python 3 (ipykernel)",
   "language": "python",
   "name": "python3"
  },
  "language_info": {
   "codemirror_mode": {
    "name": "ipython",
    "version": 3
   },
   "file_extension": ".py",
   "mimetype": "text/x-python",
   "name": "python",
   "nbconvert_exporter": "python",
   "pygments_lexer": "ipython3",
   "version": "3.8.17"
  }
 },
 "nbformat": 4,
 "nbformat_minor": 5
}
