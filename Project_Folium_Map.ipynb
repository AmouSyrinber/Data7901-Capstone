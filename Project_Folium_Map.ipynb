{
 "cells": [
  {
   "cell_type": "code",
   "execution_count": 26,
   "id": "df9dbda1",
   "metadata": {},
   "outputs": [],
   "source": [
    "import folium\n",
    "from folium import plugins\n",
    "from geopy.distance import geodesic\n",
    "import pandas as pd"
   ]
  },
  {
   "cell_type": "code",
   "execution_count": 14,
   "id": "04dbfcea",
   "metadata": {},
   "outputs": [],
   "source": [
    "df = pd.read_csv('cleaned_data.csv')"
   ]
  },
  {
   "cell_type": "code",
   "execution_count": 46,
   "id": "87430e05",
   "metadata": {},
   "outputs": [],
   "source": [
    "# 创建Folium地图，以第一个发射地点的坐标为中心\n",
    "map_object = folium.Map(location=[df['Latitude'].iloc[0], df['Longitude'].iloc[0]], zoom_start=8)\n",
    "\n",
    "# 为每个发射地点添加圆形区域和文本标签\n",
    "for index, row in df.iterrows():\n",
    "    folium.CircleMarker(\n",
    "        location=[row['Latitude'], row['Longitude']],\n",
    "        radius=50,\n",
    "        color='orange',\n",
    "        fill=True,\n",
    "        fill_color='orange',\n",
    "        popup=row['LaunchSite']\n",
    "    ).add_to(map_object)\n",
    "\n",
    "# 创建标记群集\n",
    "marker_cluster = plugins.MarkerCluster().add_to(map_object)\n",
    "\n",
    "# 为每个发射地点的成功/失败添加标记\n",
    "for index, row in df.iterrows():\n",
    "    result_color = 'green' if row['Outcome'] else 'red'\n",
    "    folium.Marker(\n",
    "        location=[row['Latitude'], row['Longitude']],\n",
    "        icon=folium.Icon(color=result_color),\n",
    "        popup=f\"{row['LaunchSite']} - {'Outcome' if row['Outcome'] else 'Failed'}\"\n",
    "    ).add_to(marker_cluster)\n"
   ]
  },
  {
   "cell_type": "code",
   "execution_count": 47,
   "id": "4389942b",
   "metadata": {},
   "outputs": [
    {
     "data": {
      "text/plain": [
       "<folium.map.Marker at 0x26e9e69bb50>"
      ]
     },
     "execution_count": 47,
     "metadata": {},
     "output_type": "execute_result"
    }
   ],
   "source": [
    "# 最近海岸线的坐标\n",
    "CCSFS = (28.5618571,-80.577366)\n",
    "\n",
    "coastline_CCSFS = (28.563196629377874, -80.56813738999656)\n",
    "railway_CCSFS = (28.56340440386078, -80.58696293172106)\n",
    "highway_CCSFS = (28.55957722836178, -80.57776109464285)\n",
    "\n",
    "dis_coastline_CCSFS = geodesic(CCSFS, coastline_CCSFS).kilometers\n",
    "dis_railway_CCSFS = geodesic(CCSFS, railway_CCSFS).kilometers\n",
    "dis_highway_CCSFS = geodesic(CCSFS, highway_CCSFS).kilometers\n",
    "\n",
    "folium.Marker(\n",
    "    location=KSC,\n",
    "    popup='CCSFS'\n",
    ").add_to(map_object)\n",
    "\n",
    "folium.Marker(\n",
    "    location=coastline_KSC,\n",
    "    popup='CCSFS_Closest Coastline'\n",
    ").add_to(map_object)\n",
    "\n",
    "# 在地图上画线\n",
    "folium.PolyLine(\n",
    "    locations=[CCSFS, coastline_CCSFS],\n",
    "    color='blue',\n",
    "    weight=2.5,\n",
    "    opacity=1\n",
    ").add_to(map_object)\n",
    "\n",
    "folium.PolyLine(\n",
    "    locations=[CCSFS, railway_CCSFS],\n",
    "    color='blue',\n",
    "    weight=2.5,\n",
    "    opacity=1\n",
    ").add_to(map_object)\n",
    "\n",
    "folium.PolyLine(\n",
    "    locations=[CCSFS, highway_CCSFS],\n",
    "    color='blue',\n",
    "    weight=2.5,\n",
    "    opacity=1\n",
    ").add_to(map_object)\n",
    "\n",
    "# 在线上显示距离\n",
    "distance_popup = f'Distance: {dis_coastline_CCSFS:.2f} km'\n",
    "folium.Marker(\n",
    "    location=[(CCSFS[0] + coastline_CCSFS[0]) / 2, (CCSFS[1] + coastline_CCSFS[1]) / 2],  \n",
    "    popup=distance_popup,\n",
    "    icon=folium.Icon(color='red')\n",
    ").add_to(map_object)\n",
    "\n",
    "distance_popup = f'Distance: {dis_railway_CCSFS:.2f} km'\n",
    "folium.Marker(\n",
    "    location=[(CCSFS[0] + railway_CCSFS[0]) / 2, (CCSFS[1] + railway_CCSFS[1]) / 2],  \n",
    "    popup=distance_popup,\n",
    "    icon=folium.Icon(color='red')\n",
    ").add_to(map_object)\n",
    "\n",
    "distance_popup = f'Distance: {dis_highway_CCSFS:.2f} km'\n",
    "folium.Marker(\n",
    "    location=[(CCSFS[0] + highway_CCSFS[0]) / 2, (CCSFS[1] + highway_CCSFS[1]) / 2],  \n",
    "    popup=distance_popup,\n",
    "    icon=folium.Icon(color='red')\n",
    ").add_to(map_object)"
   ]
  },
  {
   "cell_type": "code",
   "execution_count": 48,
   "id": "ffa397aa",
   "metadata": {},
   "outputs": [],
   "source": [
    "# 保存地图为 HTML 文件\n",
    "map_object.save('launch_sites_map.html')"
   ]
  },
  {
   "cell_type": "code",
   "execution_count": null,
   "id": "92808b06",
   "metadata": {},
   "outputs": [],
   "source": []
  }
 ],
 "metadata": {
  "kernelspec": {
   "display_name": "Python 3 (ipykernel)",
   "language": "python",
   "name": "python3"
  },
  "language_info": {
   "codemirror_mode": {
    "name": "ipython",
    "version": 3
   },
   "file_extension": ".py",
   "mimetype": "text/x-python",
   "name": "python",
   "nbconvert_exporter": "python",
   "pygments_lexer": "ipython3",
   "version": "3.8.17"
  }
 },
 "nbformat": 4,
 "nbformat_minor": 5
}
